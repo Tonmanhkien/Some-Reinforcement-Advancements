{
 "cells": [
  {
   "cell_type": "code",
   "execution_count": 1,
   "id": "88ab9c25",
   "metadata": {},
   "outputs": [],
   "source": [
    "import gym\n",
    "import matplotlib.pyplot as plt\n",
    "import numpy as np\n",
    "import os\n",
    "os.environ['TF_CPP_MIN_LOG_LEVEL'] = '3'\n",
    "import random\n",
    "from IPython.display import clear_output\n",
    "from collections import deque\n",
    "from tqdm.notebook import tqdm\n",
    "from collections import deque\n",
    "\n",
    "import tensorflow as tf\n",
    "from tensorflow import keras\n",
    "from tensorflow.keras import layers\n",
    "import keras.backend as K\n",
    "\n",
    "tf.compat.v1.disable_eager_execution()"
   ]
  },
  {
   "cell_type": "markdown",
   "id": "744db906",
   "metadata": {},
   "source": [
    "## Distributional RL"
   ]
  },
  {
   "cell_type": "markdown",
   "id": "003531e5",
   "metadata": {},
   "source": [
    "### C51"
   ]
  },
  {
   "cell_type": "code",
   "execution_count": null,
   "id": "31cdbe29",
   "metadata": {},
   "outputs": [],
   "source": []
  }
 ],
 "metadata": {
  "kernelspec": {
   "display_name": "test",
   "language": "python",
   "name": "python3"
  },
  "language_info": {
   "codemirror_mode": {
    "name": "ipython",
    "version": 3
   },
   "file_extension": ".py",
   "mimetype": "text/x-python",
   "name": "python",
   "nbconvert_exporter": "python",
   "pygments_lexer": "ipython3",
   "version": "3.8.20"
  }
 },
 "nbformat": 4,
 "nbformat_minor": 5
}
